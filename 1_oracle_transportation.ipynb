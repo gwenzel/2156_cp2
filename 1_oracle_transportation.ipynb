{
 "cells": [
  {
   "cell_type": "code",
   "execution_count": 1,
   "id": "ce6dc8c4",
   "metadata": {},
   "outputs": [
    {
     "name": "stdout",
     "output_type": "stream",
     "text": [
      "Loading data...\n",
      "Grids shape: (500000, 7, 7)\n",
      "Ratings shape: (500000, 4)\n",
      "Available ratings per advisor: [5000 5000 5000 5000]\n"
     ]
    }
   ],
   "source": [
    "# Setup and Data Loading\n",
    "import numpy as np\n",
    "import warnings\n",
    "import os\n",
    "warnings.filterwarnings('ignore')\n",
    "\n",
    "# Clone repository if not exists and load data\n",
    "if not os.path.exists('2155-Challenge-Problem-2'):\n",
    "    import subprocess\n",
    "    print(\"Cloning repository...\")\n",
    "    subprocess.run(['git', 'clone', 'https://github.com/Lyleregenwetter/2155-Challenge-Problem-2'], \n",
    "                   check=True, cwd='.')\n",
    "    print(\"Repository cloned!\")\n",
    "\n",
    "# Change to the repository directory and load data\n",
    "os.chdir('2155-Challenge-Problem-2')\n",
    "\n",
    "# Import utilities\n",
    "from utils_public import load_grids, plot_n_grids\n",
    "\n",
    "print(\"Loading data...\")\n",
    "grids = load_grids()\n",
    "ratings = np.load(\"datasets/scores.npy\")\n",
    "\n",
    "print(f\"Grids shape: {grids.shape}\")\n",
    "print(f\"Ratings shape: {ratings.shape}\")\n",
    "print(f\"Available ratings per advisor: {(~np.isnan(ratings)).sum(axis=0)}\")\n",
    "\n",
    "# advisor_names = [\"Wellness\", \"Tax\", \"Transportation\", \"Business\"]\n",
    "\n",
    "# Change back to parent directory for saving results\n",
    "os.chdir('..')"
   ]
  },
  {
   "cell_type": "code",
   "execution_count": 3,
   "id": "0e5857d9",
   "metadata": {},
   "outputs": [
    {
     "name": "stdout",
     "output_type": "stream",
     "text": [
      "Transportation Oracle initialized!\n",
      "\n",
      "============================================================\n",
      "Training CNN Transportation Oracle\n",
      "============================================================\n",
      "Available training samples: 5000\n",
      "🧠 Using CNN approach for spatial pattern recognition...\n",
      "🏗️ CNN Architecture:\n"
     ]
    },
    {
     "data": {
      "text/html": [
       "<pre style=\"white-space:pre;overflow-x:auto;line-height:normal;font-family:Menlo,'DejaVu Sans Mono',consolas,'Courier New',monospace\"><span style=\"font-weight: bold\">Model: \"sequential_1\"</span>\n",
       "</pre>\n"
      ],
      "text/plain": [
       "\u001b[1mModel: \"sequential_1\"\u001b[0m\n"
      ]
     },
     "metadata": {},
     "output_type": "display_data"
    },
    {
     "data": {
      "text/html": [
       "<pre style=\"white-space:pre;overflow-x:auto;line-height:normal;font-family:Menlo,'DejaVu Sans Mono',consolas,'Courier New',monospace\">┏━━━━━━━━━━━━━━━━━━━━━━━━━━━━━━━━━┳━━━━━━━━━━━━━━━━━━━━━━━━┳━━━━━━━━━━━━━━━┓\n",
       "┃<span style=\"font-weight: bold\"> Layer (type)                    </span>┃<span style=\"font-weight: bold\"> Output Shape           </span>┃<span style=\"font-weight: bold\">       Param # </span>┃\n",
       "┡━━━━━━━━━━━━━━━━━━━━━━━━━━━━━━━━━╇━━━━━━━━━━━━━━━━━━━━━━━━╇━━━━━━━━━━━━━━━┩\n",
       "│ local_patterns (<span style=\"color: #0087ff; text-decoration-color: #0087ff\">Conv2D</span>)         │ (<span style=\"color: #00d7ff; text-decoration-color: #00d7ff\">None</span>, <span style=\"color: #00af00; text-decoration-color: #00af00\">7</span>, <span style=\"color: #00af00; text-decoration-color: #00af00\">7</span>, <span style=\"color: #00af00; text-decoration-color: #00af00\">32</span>)       │           <span style=\"color: #00af00; text-decoration-color: #00af00\">320</span> │\n",
       "├─────────────────────────────────┼────────────────────────┼───────────────┤\n",
       "│ batch_normalization_3           │ (<span style=\"color: #00d7ff; text-decoration-color: #00d7ff\">None</span>, <span style=\"color: #00af00; text-decoration-color: #00af00\">7</span>, <span style=\"color: #00af00; text-decoration-color: #00af00\">7</span>, <span style=\"color: #00af00; text-decoration-color: #00af00\">32</span>)       │           <span style=\"color: #00af00; text-decoration-color: #00af00\">128</span> │\n",
       "│ (<span style=\"color: #0087ff; text-decoration-color: #0087ff\">BatchNormalization</span>)            │                        │               │\n",
       "├─────────────────────────────────┼────────────────────────┼───────────────┤\n",
       "│ connectivity_patterns (<span style=\"color: #0087ff; text-decoration-color: #0087ff\">Conv2D</span>)  │ (<span style=\"color: #00d7ff; text-decoration-color: #00d7ff\">None</span>, <span style=\"color: #00af00; text-decoration-color: #00af00\">7</span>, <span style=\"color: #00af00; text-decoration-color: #00af00\">7</span>, <span style=\"color: #00af00; text-decoration-color: #00af00\">64</span>)       │        <span style=\"color: #00af00; text-decoration-color: #00af00\">18,496</span> │\n",
       "├─────────────────────────────────┼────────────────────────┼───────────────┤\n",
       "│ batch_normalization_4           │ (<span style=\"color: #00d7ff; text-decoration-color: #00d7ff\">None</span>, <span style=\"color: #00af00; text-decoration-color: #00af00\">7</span>, <span style=\"color: #00af00; text-decoration-color: #00af00\">7</span>, <span style=\"color: #00af00; text-decoration-color: #00af00\">64</span>)       │           <span style=\"color: #00af00; text-decoration-color: #00af00\">256</span> │\n",
       "│ (<span style=\"color: #0087ff; text-decoration-color: #0087ff\">BatchNormalization</span>)            │                        │               │\n",
       "├─────────────────────────────────┼────────────────────────┼───────────────┤\n",
       "│ flow_patterns (<span style=\"color: #0087ff; text-decoration-color: #0087ff\">Conv2D</span>)          │ (<span style=\"color: #00d7ff; text-decoration-color: #00d7ff\">None</span>, <span style=\"color: #00af00; text-decoration-color: #00af00\">7</span>, <span style=\"color: #00af00; text-decoration-color: #00af00\">7</span>, <span style=\"color: #00af00; text-decoration-color: #00af00\">128</span>)      │        <span style=\"color: #00af00; text-decoration-color: #00af00\">73,856</span> │\n",
       "├─────────────────────────────────┼────────────────────────┼───────────────┤\n",
       "│ batch_normalization_5           │ (<span style=\"color: #00d7ff; text-decoration-color: #00d7ff\">None</span>, <span style=\"color: #00af00; text-decoration-color: #00af00\">7</span>, <span style=\"color: #00af00; text-decoration-color: #00af00\">7</span>, <span style=\"color: #00af00; text-decoration-color: #00af00\">128</span>)      │           <span style=\"color: #00af00; text-decoration-color: #00af00\">512</span> │\n",
       "│ (<span style=\"color: #0087ff; text-decoration-color: #0087ff\">BatchNormalization</span>)            │                        │               │\n",
       "├─────────────────────────────────┼────────────────────────┼───────────────┤\n",
       "│ global_connectivity (<span style=\"color: #0087ff; text-decoration-color: #0087ff\">Conv2D</span>)    │ (<span style=\"color: #00d7ff; text-decoration-color: #00d7ff\">None</span>, <span style=\"color: #00af00; text-decoration-color: #00af00\">1</span>, <span style=\"color: #00af00; text-decoration-color: #00af00\">1</span>, <span style=\"color: #00af00; text-decoration-color: #00af00\">64</span>)       │       <span style=\"color: #00af00; text-decoration-color: #00af00\">401,472</span> │\n",
       "├─────────────────────────────────┼────────────────────────┼───────────────┤\n",
       "│ flatten_1 (<span style=\"color: #0087ff; text-decoration-color: #0087ff\">Flatten</span>)             │ (<span style=\"color: #00d7ff; text-decoration-color: #00d7ff\">None</span>, <span style=\"color: #00af00; text-decoration-color: #00af00\">64</span>)             │             <span style=\"color: #00af00; text-decoration-color: #00af00\">0</span> │\n",
       "├─────────────────────────────────┼────────────────────────┼───────────────┤\n",
       "│ dropout_2 (<span style=\"color: #0087ff; text-decoration-color: #0087ff\">Dropout</span>)             │ (<span style=\"color: #00d7ff; text-decoration-color: #00d7ff\">None</span>, <span style=\"color: #00af00; text-decoration-color: #00af00\">64</span>)             │             <span style=\"color: #00af00; text-decoration-color: #00af00\">0</span> │\n",
       "├─────────────────────────────────┼────────────────────────┼───────────────┤\n",
       "│ integration_layer (<span style=\"color: #0087ff; text-decoration-color: #0087ff\">Dense</span>)       │ (<span style=\"color: #00d7ff; text-decoration-color: #00d7ff\">None</span>, <span style=\"color: #00af00; text-decoration-color: #00af00\">256</span>)            │        <span style=\"color: #00af00; text-decoration-color: #00af00\">16,640</span> │\n",
       "├─────────────────────────────────┼────────────────────────┼───────────────┤\n",
       "│ dropout_3 (<span style=\"color: #0087ff; text-decoration-color: #0087ff\">Dropout</span>)             │ (<span style=\"color: #00d7ff; text-decoration-color: #00d7ff\">None</span>, <span style=\"color: #00af00; text-decoration-color: #00af00\">256</span>)            │             <span style=\"color: #00af00; text-decoration-color: #00af00\">0</span> │\n",
       "├─────────────────────────────────┼────────────────────────┼───────────────┤\n",
       "│ decision_layer (<span style=\"color: #0087ff; text-decoration-color: #0087ff\">Dense</span>)          │ (<span style=\"color: #00d7ff; text-decoration-color: #00d7ff\">None</span>, <span style=\"color: #00af00; text-decoration-color: #00af00\">128</span>)            │        <span style=\"color: #00af00; text-decoration-color: #00af00\">32,896</span> │\n",
       "├─────────────────────────────────┼────────────────────────┼───────────────┤\n",
       "│ refinement_layer (<span style=\"color: #0087ff; text-decoration-color: #0087ff\">Dense</span>)        │ (<span style=\"color: #00d7ff; text-decoration-color: #00d7ff\">None</span>, <span style=\"color: #00af00; text-decoration-color: #00af00\">64</span>)             │         <span style=\"color: #00af00; text-decoration-color: #00af00\">8,256</span> │\n",
       "├─────────────────────────────────┼────────────────────────┼───────────────┤\n",
       "│ output (<span style=\"color: #0087ff; text-decoration-color: #0087ff\">Dense</span>)                  │ (<span style=\"color: #00d7ff; text-decoration-color: #00d7ff\">None</span>, <span style=\"color: #00af00; text-decoration-color: #00af00\">1</span>)              │            <span style=\"color: #00af00; text-decoration-color: #00af00\">65</span> │\n",
       "└─────────────────────────────────┴────────────────────────┴───────────────┘\n",
       "</pre>\n"
      ],
      "text/plain": [
       "┏━━━━━━━━━━━━━━━━━━━━━━━━━━━━━━━━━┳━━━━━━━━━━━━━━━━━━━━━━━━┳━━━━━━━━━━━━━━━┓\n",
       "┃\u001b[1m \u001b[0m\u001b[1mLayer (type)                   \u001b[0m\u001b[1m \u001b[0m┃\u001b[1m \u001b[0m\u001b[1mOutput Shape          \u001b[0m\u001b[1m \u001b[0m┃\u001b[1m \u001b[0m\u001b[1m      Param #\u001b[0m\u001b[1m \u001b[0m┃\n",
       "┡━━━━━━━━━━━━━━━━━━━━━━━━━━━━━━━━━╇━━━━━━━━━━━━━━━━━━━━━━━━╇━━━━━━━━━━━━━━━┩\n",
       "│ local_patterns (\u001b[38;5;33mConv2D\u001b[0m)         │ (\u001b[38;5;45mNone\u001b[0m, \u001b[38;5;34m7\u001b[0m, \u001b[38;5;34m7\u001b[0m, \u001b[38;5;34m32\u001b[0m)       │           \u001b[38;5;34m320\u001b[0m │\n",
       "├─────────────────────────────────┼────────────────────────┼───────────────┤\n",
       "│ batch_normalization_3           │ (\u001b[38;5;45mNone\u001b[0m, \u001b[38;5;34m7\u001b[0m, \u001b[38;5;34m7\u001b[0m, \u001b[38;5;34m32\u001b[0m)       │           \u001b[38;5;34m128\u001b[0m │\n",
       "│ (\u001b[38;5;33mBatchNormalization\u001b[0m)            │                        │               │\n",
       "├─────────────────────────────────┼────────────────────────┼───────────────┤\n",
       "│ connectivity_patterns (\u001b[38;5;33mConv2D\u001b[0m)  │ (\u001b[38;5;45mNone\u001b[0m, \u001b[38;5;34m7\u001b[0m, \u001b[38;5;34m7\u001b[0m, \u001b[38;5;34m64\u001b[0m)       │        \u001b[38;5;34m18,496\u001b[0m │\n",
       "├─────────────────────────────────┼────────────────────────┼───────────────┤\n",
       "│ batch_normalization_4           │ (\u001b[38;5;45mNone\u001b[0m, \u001b[38;5;34m7\u001b[0m, \u001b[38;5;34m7\u001b[0m, \u001b[38;5;34m64\u001b[0m)       │           \u001b[38;5;34m256\u001b[0m │\n",
       "│ (\u001b[38;5;33mBatchNormalization\u001b[0m)            │                        │               │\n",
       "├─────────────────────────────────┼────────────────────────┼───────────────┤\n",
       "│ flow_patterns (\u001b[38;5;33mConv2D\u001b[0m)          │ (\u001b[38;5;45mNone\u001b[0m, \u001b[38;5;34m7\u001b[0m, \u001b[38;5;34m7\u001b[0m, \u001b[38;5;34m128\u001b[0m)      │        \u001b[38;5;34m73,856\u001b[0m │\n",
       "├─────────────────────────────────┼────────────────────────┼───────────────┤\n",
       "│ batch_normalization_5           │ (\u001b[38;5;45mNone\u001b[0m, \u001b[38;5;34m7\u001b[0m, \u001b[38;5;34m7\u001b[0m, \u001b[38;5;34m128\u001b[0m)      │           \u001b[38;5;34m512\u001b[0m │\n",
       "│ (\u001b[38;5;33mBatchNormalization\u001b[0m)            │                        │               │\n",
       "├─────────────────────────────────┼────────────────────────┼───────────────┤\n",
       "│ global_connectivity (\u001b[38;5;33mConv2D\u001b[0m)    │ (\u001b[38;5;45mNone\u001b[0m, \u001b[38;5;34m1\u001b[0m, \u001b[38;5;34m1\u001b[0m, \u001b[38;5;34m64\u001b[0m)       │       \u001b[38;5;34m401,472\u001b[0m │\n",
       "├─────────────────────────────────┼────────────────────────┼───────────────┤\n",
       "│ flatten_1 (\u001b[38;5;33mFlatten\u001b[0m)             │ (\u001b[38;5;45mNone\u001b[0m, \u001b[38;5;34m64\u001b[0m)             │             \u001b[38;5;34m0\u001b[0m │\n",
       "├─────────────────────────────────┼────────────────────────┼───────────────┤\n",
       "│ dropout_2 (\u001b[38;5;33mDropout\u001b[0m)             │ (\u001b[38;5;45mNone\u001b[0m, \u001b[38;5;34m64\u001b[0m)             │             \u001b[38;5;34m0\u001b[0m │\n",
       "├─────────────────────────────────┼────────────────────────┼───────────────┤\n",
       "│ integration_layer (\u001b[38;5;33mDense\u001b[0m)       │ (\u001b[38;5;45mNone\u001b[0m, \u001b[38;5;34m256\u001b[0m)            │        \u001b[38;5;34m16,640\u001b[0m │\n",
       "├─────────────────────────────────┼────────────────────────┼───────────────┤\n",
       "│ dropout_3 (\u001b[38;5;33mDropout\u001b[0m)             │ (\u001b[38;5;45mNone\u001b[0m, \u001b[38;5;34m256\u001b[0m)            │             \u001b[38;5;34m0\u001b[0m │\n",
       "├─────────────────────────────────┼────────────────────────┼───────────────┤\n",
       "│ decision_layer (\u001b[38;5;33mDense\u001b[0m)          │ (\u001b[38;5;45mNone\u001b[0m, \u001b[38;5;34m128\u001b[0m)            │        \u001b[38;5;34m32,896\u001b[0m │\n",
       "├─────────────────────────────────┼────────────────────────┼───────────────┤\n",
       "│ refinement_layer (\u001b[38;5;33mDense\u001b[0m)        │ (\u001b[38;5;45mNone\u001b[0m, \u001b[38;5;34m64\u001b[0m)             │         \u001b[38;5;34m8,256\u001b[0m │\n",
       "├─────────────────────────────────┼────────────────────────┼───────────────┤\n",
       "│ output (\u001b[38;5;33mDense\u001b[0m)                  │ (\u001b[38;5;45mNone\u001b[0m, \u001b[38;5;34m1\u001b[0m)              │            \u001b[38;5;34m65\u001b[0m │\n",
       "└─────────────────────────────────┴────────────────────────┴───────────────┘\n"
      ]
     },
     "metadata": {},
     "output_type": "display_data"
    },
    {
     "data": {
      "text/html": [
       "<pre style=\"white-space:pre;overflow-x:auto;line-height:normal;font-family:Menlo,'DejaVu Sans Mono',consolas,'Courier New',monospace\"><span style=\"font-weight: bold\"> Total params: </span><span style=\"color: #00af00; text-decoration-color: #00af00\">552,897</span> (2.11 MB)\n",
       "</pre>\n"
      ],
      "text/plain": [
       "\u001b[1m Total params: \u001b[0m\u001b[38;5;34m552,897\u001b[0m (2.11 MB)\n"
      ]
     },
     "metadata": {},
     "output_type": "display_data"
    },
    {
     "data": {
      "text/html": [
       "<pre style=\"white-space:pre;overflow-x:auto;line-height:normal;font-family:Menlo,'DejaVu Sans Mono',consolas,'Courier New',monospace\"><span style=\"font-weight: bold\"> Trainable params: </span><span style=\"color: #00af00; text-decoration-color: #00af00\">552,449</span> (2.11 MB)\n",
       "</pre>\n"
      ],
      "text/plain": [
       "\u001b[1m Trainable params: \u001b[0m\u001b[38;5;34m552,449\u001b[0m (2.11 MB)\n"
      ]
     },
     "metadata": {},
     "output_type": "display_data"
    },
    {
     "data": {
      "text/html": [
       "<pre style=\"white-space:pre;overflow-x:auto;line-height:normal;font-family:Menlo,'DejaVu Sans Mono',consolas,'Courier New',monospace\"><span style=\"font-weight: bold\"> Non-trainable params: </span><span style=\"color: #00af00; text-decoration-color: #00af00\">448</span> (1.75 KB)\n",
       "</pre>\n"
      ],
      "text/plain": [
       "\u001b[1m Non-trainable params: \u001b[0m\u001b[38;5;34m448\u001b[0m (1.75 KB)\n"
      ]
     },
     "metadata": {},
     "output_type": "display_data"
    },
    {
     "name": "stdout",
     "output_type": "stream",
     "text": [
      "🚀 Training CNN model...\n",
      "Epoch 1/200\n",
      "\u001b[1m125/125\u001b[0m \u001b[32m━━━━━━━━━━━━━━━━━━━━\u001b[0m\u001b[37m\u001b[0m \u001b[1m34s\u001b[0m 61ms/step - loss: 0.1256 - mae: 0.2859 - mse: 0.1256 - val_loss: 0.1799 - val_mae: 0.3457 - val_mse: 0.1799 - learning_rate: 0.0010\n",
      "Epoch 2/200\n",
      "\u001b[1m125/125\u001b[0m \u001b[32m━━━━━━━━━━━━━━━━━━━━\u001b[0m\u001b[37m\u001b[0m \u001b[1m7s\u001b[0m 33ms/step - loss: 0.0895 - mae: 0.2478 - mse: 0.0895 - val_loss: 0.1257 - val_mae: 0.2897 - val_mse: 0.1257 - learning_rate: 0.0010\n",
      "Epoch 3/200\n",
      "\u001b[1m125/125\u001b[0m \u001b[32m━━━━━━━━━━━━━━━━━━━━\u001b[0m\u001b[37m\u001b[0m \u001b[1m4s\u001b[0m 34ms/step - loss: 0.0768 - mae: 0.2308 - mse: 0.0768 - val_loss: 0.1183 - val_mae: 0.2822 - val_mse: 0.1183 - learning_rate: 0.0010\n",
      "Epoch 4/200\n",
      "\u001b[1m125/125\u001b[0m \u001b[32m━━━━━━━━━━━━━━━━━━━━\u001b[0m\u001b[37m\u001b[0m \u001b[1m5s\u001b[0m 34ms/step - loss: 0.0715 - mae: 0.2227 - mse: 0.0715 - val_loss: 0.0946 - val_mae: 0.2575 - val_mse: 0.0946 - learning_rate: 0.0010\n",
      "Epoch 5/200\n",
      "\u001b[1m125/125\u001b[0m \u001b[32m━━━━━━━━━━━━━━━━━━━━\u001b[0m\u001b[37m\u001b[0m \u001b[1m4s\u001b[0m 33ms/step - loss: 0.0656 - mae: 0.2123 - mse: 0.0656 - val_loss: 0.0864 - val_mae: 0.2456 - val_mse: 0.0864 - learning_rate: 0.0010\n",
      "Epoch 6/200\n",
      "\u001b[1m125/125\u001b[0m \u001b[32m━━━━━━━━━━━━━━━━━━━━\u001b[0m\u001b[37m\u001b[0m \u001b[1m4s\u001b[0m 35ms/step - loss: 0.0607 - mae: 0.2035 - mse: 0.0607 - val_loss: 0.0753 - val_mae: 0.2325 - val_mse: 0.0753 - learning_rate: 0.0010\n",
      "Epoch 7/200\n",
      "\u001b[1m125/125\u001b[0m \u001b[32m━━━━━━━━━━━━━━━━━━━━\u001b[0m\u001b[37m\u001b[0m \u001b[1m7s\u001b[0m 53ms/step - loss: 0.0564 - mae: 0.1952 - mse: 0.0564 - val_loss: 0.0790 - val_mae: 0.2352 - val_mse: 0.0790 - learning_rate: 0.0010\n",
      "Epoch 8/200\n",
      "\u001b[1m125/125\u001b[0m \u001b[32m━━━━━━━━━━━━━━━━━━━━\u001b[0m\u001b[37m\u001b[0m \u001b[1m5s\u001b[0m 40ms/step - loss: 0.0526 - mae: 0.1872 - mse: 0.0526 - val_loss: 0.0737 - val_mae: 0.2273 - val_mse: 0.0737 - learning_rate: 0.0010\n",
      "Epoch 9/200\n",
      "\u001b[1m125/125\u001b[0m \u001b[32m━━━━━━━━━━━━━━━━━━━━\u001b[0m\u001b[37m\u001b[0m \u001b[1m5s\u001b[0m 42ms/step - loss: 0.0455 - mae: 0.1729 - mse: 0.0455 - val_loss: 0.0730 - val_mae: 0.2253 - val_mse: 0.0730 - learning_rate: 0.0010\n",
      "Epoch 10/200\n",
      "\u001b[1m125/125\u001b[0m \u001b[32m━━━━━━━━━━━━━━━━━━━━\u001b[0m\u001b[37m\u001b[0m \u001b[1m5s\u001b[0m 41ms/step - loss: 0.0434 - mae: 0.1670 - mse: 0.0434 - val_loss: 0.0771 - val_mae: 0.2283 - val_mse: 0.0771 - learning_rate: 0.0010\n",
      "Epoch 11/200\n",
      "\u001b[1m125/125\u001b[0m \u001b[32m━━━━━━━━━━━━━━━━━━━━\u001b[0m\u001b[37m\u001b[0m \u001b[1m5s\u001b[0m 42ms/step - loss: 0.0400 - mae: 0.1597 - mse: 0.0400 - val_loss: 0.0735 - val_mae: 0.2280 - val_mse: 0.0735 - learning_rate: 0.0010\n",
      "Epoch 12/200\n",
      "\u001b[1m125/125\u001b[0m \u001b[32m━━━━━━━━━━━━━━━━━━━━\u001b[0m\u001b[37m\u001b[0m \u001b[1m5s\u001b[0m 39ms/step - loss: 0.0363 - mae: 0.1505 - mse: 0.0363 - val_loss: 0.0811 - val_mae: 0.2368 - val_mse: 0.0811 - learning_rate: 0.0010\n",
      "Epoch 13/200\n",
      "\u001b[1m125/125\u001b[0m \u001b[32m━━━━━━━━━━━━━━━━━━━━\u001b[0m\u001b[37m\u001b[0m \u001b[1m6s\u001b[0m 44ms/step - loss: 0.0369 - mae: 0.1509 - mse: 0.0369 - val_loss: 0.0749 - val_mae: 0.2270 - val_mse: 0.0749 - learning_rate: 0.0010\n",
      "Epoch 14/200\n",
      "\u001b[1m125/125\u001b[0m \u001b[32m━━━━━━━━━━━━━━━━━━━━\u001b[0m\u001b[37m\u001b[0m \u001b[1m6s\u001b[0m 49ms/step - loss: 0.0305 - mae: 0.1375 - mse: 0.0305 - val_loss: 0.0767 - val_mae: 0.2295 - val_mse: 0.0767 - learning_rate: 0.0010\n",
      "Epoch 15/200\n",
      "\u001b[1m125/125\u001b[0m \u001b[32m━━━━━━━━━━━━━━━━━━━━\u001b[0m\u001b[37m\u001b[0m \u001b[1m16s\u001b[0m 97ms/step - loss: 0.0289 - mae: 0.1345 - mse: 0.0289 - val_loss: 0.0881 - val_mae: 0.2423 - val_mse: 0.0881 - learning_rate: 0.0010\n",
      "Epoch 16/200\n",
      "\u001b[1m125/125\u001b[0m \u001b[32m━━━━━━━━━━━━━━━━━━━━\u001b[0m\u001b[37m\u001b[0m \u001b[1m13s\u001b[0m 90ms/step - loss: 0.0290 - mae: 0.1329 - mse: 0.0290 - val_loss: 0.0764 - val_mae: 0.2264 - val_mse: 0.0764 - learning_rate: 0.0010\n",
      "Epoch 17/200\n",
      "\u001b[1m125/125\u001b[0m \u001b[32m━━━━━━━━━━━━━━━━━━━━\u001b[0m\u001b[37m\u001b[0m \u001b[1m11s\u001b[0m 86ms/step - loss: 0.0287 - mae: 0.1333 - mse: 0.0287 - val_loss: 0.0829 - val_mae: 0.2378 - val_mse: 0.0829 - learning_rate: 0.0010\n",
      "Epoch 18/200\n",
      "\u001b[1m125/125\u001b[0m \u001b[32m━━━━━━━━━━━━━━━━━━━━\u001b[0m\u001b[37m\u001b[0m \u001b[1m11s\u001b[0m 84ms/step - loss: 0.0245 - mae: 0.1221 - mse: 0.0245 - val_loss: 0.0793 - val_mae: 0.2318 - val_mse: 0.0793 - learning_rate: 0.0010\n",
      "Epoch 19/200\n",
      "\u001b[1m125/125\u001b[0m \u001b[32m━━━━━━━━━━━━━━━━━━━━\u001b[0m\u001b[37m\u001b[0m \u001b[1m11s\u001b[0m 83ms/step - loss: 0.0232 - mae: 0.1189 - mse: 0.0232 - val_loss: 0.0777 - val_mae: 0.2268 - val_mse: 0.0777 - learning_rate: 0.0010\n",
      "Epoch 20/200\n",
      "\u001b[1m125/125\u001b[0m \u001b[32m━━━━━━━━━━━━━━━━━━━━\u001b[0m\u001b[37m\u001b[0m \u001b[1m11s\u001b[0m 75ms/step - loss: 0.0200 - mae: 0.1099 - mse: 0.0200 - val_loss: 0.0783 - val_mae: 0.2285 - val_mse: 0.0783 - learning_rate: 5.0000e-04\n",
      "Epoch 21/200\n",
      "\u001b[1m125/125\u001b[0m \u001b[32m━━━━━━━━━━━━━━━━━━━━\u001b[0m\u001b[37m\u001b[0m \u001b[1m8s\u001b[0m 61ms/step - loss: 0.0145 - mae: 0.0932 - mse: 0.0145 - val_loss: 0.0744 - val_mae: 0.2249 - val_mse: 0.0744 - learning_rate: 5.0000e-04\n",
      "Epoch 22/200\n",
      "\u001b[1m125/125\u001b[0m \u001b[32m━━━━━━━━━━━━━━━━━━━━\u001b[0m\u001b[37m\u001b[0m \u001b[1m7s\u001b[0m 58ms/step - loss: 0.0133 - mae: 0.0884 - mse: 0.0133 - val_loss: 0.0757 - val_mae: 0.2266 - val_mse: 0.0757 - learning_rate: 5.0000e-04\n",
      "Epoch 23/200\n",
      "\u001b[1m125/125\u001b[0m \u001b[32m━━━━━━━━━━━━━━━━━━━━\u001b[0m\u001b[37m\u001b[0m \u001b[1m10s\u001b[0m 51ms/step - loss: 0.0126 - mae: 0.0854 - mse: 0.0126 - val_loss: 0.0761 - val_mae: 0.2274 - val_mse: 0.0761 - learning_rate: 5.0000e-04\n",
      "Epoch 24/200\n",
      "\u001b[1m125/125\u001b[0m \u001b[32m━━━━━━━━━━━━━━━━━━━━\u001b[0m\u001b[37m\u001b[0m \u001b[1m9s\u001b[0m 40ms/step - loss: 0.0114 - mae: 0.0814 - mse: 0.0114 - val_loss: 0.0737 - val_mae: 0.2237 - val_mse: 0.0737 - learning_rate: 5.0000e-04\n",
      "Epoch 25/200\n",
      "\u001b[1m125/125\u001b[0m \u001b[32m━━━━━━━━━━━━━━━━━━━━\u001b[0m\u001b[37m\u001b[0m \u001b[1m6s\u001b[0m 51ms/step - loss: 0.0126 - mae: 0.0839 - mse: 0.0126 - val_loss: 0.0730 - val_mae: 0.2234 - val_mse: 0.0730 - learning_rate: 5.0000e-04\n",
      "Epoch 26/200\n",
      "\u001b[1m125/125\u001b[0m \u001b[32m━━━━━━━━━━━━━━━━━━━━\u001b[0m\u001b[37m\u001b[0m \u001b[1m6s\u001b[0m 47ms/step - loss: 0.0112 - mae: 0.0812 - mse: 0.0112 - val_loss: 0.0743 - val_mae: 0.2245 - val_mse: 0.0743 - learning_rate: 5.0000e-04\n",
      "Epoch 27/200\n",
      "\u001b[1m125/125\u001b[0m \u001b[32m━━━━━━━━━━━━━━━━━━━━\u001b[0m\u001b[37m\u001b[0m \u001b[1m8s\u001b[0m 67ms/step - loss: 0.0117 - mae: 0.0822 - mse: 0.0117 - val_loss: 0.0772 - val_mae: 0.2272 - val_mse: 0.0772 - learning_rate: 5.0000e-04\n",
      "Epoch 28/200\n",
      "\u001b[1m125/125\u001b[0m \u001b[32m━━━━━━━━━━━━━━━━━━━━\u001b[0m\u001b[37m\u001b[0m \u001b[1m7s\u001b[0m 55ms/step - loss: 0.0112 - mae: 0.0797 - mse: 0.0112 - val_loss: 0.0737 - val_mae: 0.2233 - val_mse: 0.0737 - learning_rate: 5.0000e-04\n",
      "Epoch 29/200\n",
      "\u001b[1m125/125\u001b[0m \u001b[32m━━━━━━━━━━━━━━━━━━━━\u001b[0m\u001b[37m\u001b[0m \u001b[1m6s\u001b[0m 48ms/step - loss: 0.0104 - mae: 0.0775 - mse: 0.0104 - val_loss: 0.0718 - val_mae: 0.2208 - val_mse: 0.0718 - learning_rate: 5.0000e-04\n",
      "Epoch 30/200\n",
      "\u001b[1m125/125\u001b[0m \u001b[32m━━━━━━━━━━━━━━━━━━━━\u001b[0m\u001b[37m\u001b[0m \u001b[1m6s\u001b[0m 50ms/step - loss: 0.0097 - mae: 0.0748 - mse: 0.0097 - val_loss: 0.0741 - val_mae: 0.2238 - val_mse: 0.0741 - learning_rate: 5.0000e-04\n",
      "Epoch 31/200\n",
      "\u001b[1m125/125\u001b[0m \u001b[32m━━━━━━━━━━━━━━━━━━━━\u001b[0m\u001b[37m\u001b[0m \u001b[1m6s\u001b[0m 50ms/step - loss: 0.0094 - mae: 0.0738 - mse: 0.0094 - val_loss: 0.0755 - val_mae: 0.2259 - val_mse: 0.0755 - learning_rate: 5.0000e-04\n",
      "Epoch 32/200\n",
      "\u001b[1m125/125\u001b[0m \u001b[32m━━━━━━━━━━━━━━━━━━━━\u001b[0m\u001b[37m\u001b[0m \u001b[1m6s\u001b[0m 49ms/step - loss: 0.0105 - mae: 0.0778 - mse: 0.0105 - val_loss: 0.0714 - val_mae: 0.2195 - val_mse: 0.0714 - learning_rate: 5.0000e-04\n",
      "Epoch 33/200\n",
      "\u001b[1m125/125\u001b[0m \u001b[32m━━━━━━━━━━━━━━━━━━━━\u001b[0m\u001b[37m\u001b[0m \u001b[1m6s\u001b[0m 49ms/step - loss: 0.0108 - mae: 0.0785 - mse: 0.0108 - val_loss: 0.0749 - val_mae: 0.2262 - val_mse: 0.0749 - learning_rate: 5.0000e-04\n",
      "Epoch 34/200\n",
      "\u001b[1m125/125\u001b[0m \u001b[32m━━━━━━━━━━━━━━━━━━━━\u001b[0m\u001b[37m\u001b[0m \u001b[1m6s\u001b[0m 50ms/step - loss: 0.0102 - mae: 0.0760 - mse: 0.0102 - val_loss: 0.0737 - val_mae: 0.2226 - val_mse: 0.0737 - learning_rate: 5.0000e-04\n",
      "Epoch 35/200\n",
      "\u001b[1m125/125\u001b[0m \u001b[32m━━━━━━━━━━━━━━━━━━━━\u001b[0m\u001b[37m\u001b[0m \u001b[1m6s\u001b[0m 48ms/step - loss: 0.0109 - mae: 0.0774 - mse: 0.0109 - val_loss: 0.0748 - val_mae: 0.2252 - val_mse: 0.0748 - learning_rate: 5.0000e-04\n",
      "Epoch 36/200\n",
      "\u001b[1m125/125\u001b[0m \u001b[32m━━━━━━━━━━━━━━━━━━━━\u001b[0m\u001b[37m\u001b[0m \u001b[1m6s\u001b[0m 50ms/step - loss: 0.0103 - mae: 0.0755 - mse: 0.0103 - val_loss: 0.0758 - val_mae: 0.2280 - val_mse: 0.0758 - learning_rate: 5.0000e-04\n",
      "Epoch 37/200\n",
      "\u001b[1m125/125\u001b[0m \u001b[32m━━━━━━━━━━━━━━━━━━━━\u001b[0m\u001b[37m\u001b[0m \u001b[1m5s\u001b[0m 41ms/step - loss: 0.0108 - mae: 0.0775 - mse: 0.0108 - val_loss: 0.0776 - val_mae: 0.2299 - val_mse: 0.0776 - learning_rate: 5.0000e-04\n",
      "Epoch 38/200\n",
      "\u001b[1m125/125\u001b[0m \u001b[32m━━━━━━━━━━━━━━━━━━━━\u001b[0m\u001b[37m\u001b[0m \u001b[1m4s\u001b[0m 35ms/step - loss: 0.0090 - mae: 0.0726 - mse: 0.0090 - val_loss: 0.0730 - val_mae: 0.2238 - val_mse: 0.0730 - learning_rate: 5.0000e-04\n",
      "Epoch 39/200\n",
      "\u001b[1m125/125\u001b[0m \u001b[32m━━━━━━━━━━━━━━━━━━━━\u001b[0m\u001b[37m\u001b[0m \u001b[1m4s\u001b[0m 35ms/step - loss: 0.0091 - mae: 0.0714 - mse: 0.0091 - val_loss: 0.0701 - val_mae: 0.2194 - val_mse: 0.0701 - learning_rate: 5.0000e-04\n",
      "Epoch 40/200\n",
      "\u001b[1m125/125\u001b[0m \u001b[32m━━━━━━━━━━━━━━━━━━━━\u001b[0m\u001b[37m\u001b[0m \u001b[1m6s\u001b[0m 51ms/step - loss: 0.0092 - mae: 0.0716 - mse: 0.0092 - val_loss: 0.0733 - val_mae: 0.2236 - val_mse: 0.0733 - learning_rate: 5.0000e-04\n",
      "Epoch 41/200\n",
      "\u001b[1m125/125\u001b[0m \u001b[32m━━━━━━━━━━━━━━━━━━━━\u001b[0m\u001b[37m\u001b[0m \u001b[1m7s\u001b[0m 53ms/step - loss: 0.0095 - mae: 0.0728 - mse: 0.0095 - val_loss: 0.0734 - val_mae: 0.2211 - val_mse: 0.0734 - learning_rate: 5.0000e-04\n",
      "Epoch 42/200\n",
      "\u001b[1m125/125\u001b[0m \u001b[32m━━━━━━━━━━━━━━━━━━━━\u001b[0m\u001b[37m\u001b[0m \u001b[1m8s\u001b[0m 66ms/step - loss: 0.0086 - mae: 0.0702 - mse: 0.0086 - val_loss: 0.0704 - val_mae: 0.2192 - val_mse: 0.0704 - learning_rate: 5.0000e-04\n",
      "Epoch 43/200\n",
      "\u001b[1m125/125\u001b[0m \u001b[32m━━━━━━━━━━━━━━━━━━━━\u001b[0m\u001b[37m\u001b[0m \u001b[1m8s\u001b[0m 62ms/step - loss: 0.0080 - mae: 0.0678 - mse: 0.0080 - val_loss: 0.0712 - val_mae: 0.2203 - val_mse: 0.0712 - learning_rate: 5.0000e-04\n",
      "Epoch 44/200\n",
      "\u001b[1m125/125\u001b[0m \u001b[32m━━━━━━━━━━━━━━━━━━━━\u001b[0m\u001b[37m\u001b[0m \u001b[1m9s\u001b[0m 66ms/step - loss: 0.0088 - mae: 0.0695 - mse: 0.0088 - val_loss: 0.0725 - val_mae: 0.2224 - val_mse: 0.0725 - learning_rate: 5.0000e-04\n",
      "Epoch 45/200\n",
      "\u001b[1m125/125\u001b[0m \u001b[32m━━━━━━━━━━━━━━━━━━━━\u001b[0m\u001b[37m\u001b[0m \u001b[1m7s\u001b[0m 40ms/step - loss: 0.0086 - mae: 0.0699 - mse: 0.0086 - val_loss: 0.0751 - val_mae: 0.2254 - val_mse: 0.0751 - learning_rate: 5.0000e-04\n",
      "Epoch 46/200\n",
      "\u001b[1m125/125\u001b[0m \u001b[32m━━━━━━━━━━━━━━━━━━━━\u001b[0m\u001b[37m\u001b[0m \u001b[1m5s\u001b[0m 42ms/step - loss: 0.0084 - mae: 0.0683 - mse: 0.0084 - val_loss: 0.0746 - val_mae: 0.2249 - val_mse: 0.0746 - learning_rate: 5.0000e-04\n",
      "Epoch 47/200\n",
      "\u001b[1m125/125\u001b[0m \u001b[32m━━━━━━━━━━━━━━━━━━━━\u001b[0m\u001b[37m\u001b[0m \u001b[1m5s\u001b[0m 36ms/step - loss: 0.0082 - mae: 0.0678 - mse: 0.0082 - val_loss: 0.0724 - val_mae: 0.2209 - val_mse: 0.0724 - learning_rate: 5.0000e-04\n",
      "Epoch 48/200\n",
      "\u001b[1m125/125\u001b[0m \u001b[32m━━━━━━━━━━━━━━━━━━━━\u001b[0m\u001b[37m\u001b[0m \u001b[1m6s\u001b[0m 47ms/step - loss: 0.0080 - mae: 0.0683 - mse: 0.0080 - val_loss: 0.0724 - val_mae: 0.2222 - val_mse: 0.0724 - learning_rate: 5.0000e-04\n",
      "Epoch 49/200\n",
      "\u001b[1m125/125\u001b[0m \u001b[32m━━━━━━━━━━━━━━━━━━━━\u001b[0m\u001b[37m\u001b[0m \u001b[1m7s\u001b[0m 53ms/step - loss: 0.0073 - mae: 0.0646 - mse: 0.0073 - val_loss: 0.0722 - val_mae: 0.2228 - val_mse: 0.0722 - learning_rate: 5.0000e-04\n",
      "Epoch 50/200\n",
      "\u001b[1m125/125\u001b[0m \u001b[32m━━━━━━━━━━━━━━━━━━━━\u001b[0m\u001b[37m\u001b[0m \u001b[1m7s\u001b[0m 50ms/step - loss: 0.0071 - mae: 0.0624 - mse: 0.0071 - val_loss: 0.0734 - val_mae: 0.2243 - val_mse: 0.0734 - learning_rate: 2.5000e-04\n",
      "Epoch 51/200\n",
      "\u001b[1m125/125\u001b[0m \u001b[32m━━━━━━━━━━━━━━━━━━━━\u001b[0m\u001b[37m\u001b[0m \u001b[1m7s\u001b[0m 55ms/step - loss: 0.0059 - mae: 0.0566 - mse: 0.0059 - val_loss: 0.0732 - val_mae: 0.2240 - val_mse: 0.0732 - learning_rate: 2.5000e-04\n",
      "Epoch 52/200\n",
      "\u001b[1m125/125\u001b[0m \u001b[32m━━━━━━━━━━━━━━━━━━━━\u001b[0m\u001b[37m\u001b[0m \u001b[1m6s\u001b[0m 48ms/step - loss: 0.0050 - mae: 0.0536 - mse: 0.0050 - val_loss: 0.0734 - val_mae: 0.2247 - val_mse: 0.0734 - learning_rate: 2.5000e-04\n",
      "Epoch 53/200\n",
      "\u001b[1m125/125\u001b[0m \u001b[32m━━━━━━━━━━━━━━━━━━━━\u001b[0m\u001b[37m\u001b[0m \u001b[1m7s\u001b[0m 51ms/step - loss: 0.0053 - mae: 0.0529 - mse: 0.0053 - val_loss: 0.0744 - val_mae: 0.2260 - val_mse: 0.0744 - learning_rate: 2.5000e-04\n",
      "Epoch 54/200\n",
      "\u001b[1m125/125\u001b[0m \u001b[32m━━━━━━━━━━━━━━━━━━━━\u001b[0m\u001b[37m\u001b[0m \u001b[1m7s\u001b[0m 51ms/step - loss: 0.0049 - mae: 0.0522 - mse: 0.0049 - val_loss: 0.0738 - val_mae: 0.2252 - val_mse: 0.0738 - learning_rate: 2.5000e-04\n",
      "Epoch 55/200\n",
      "\u001b[1m125/125\u001b[0m \u001b[32m━━━━━━━━━━━━━━━━━━━━\u001b[0m\u001b[37m\u001b[0m \u001b[1m7s\u001b[0m 50ms/step - loss: 0.0044 - mae: 0.0508 - mse: 0.0044 - val_loss: 0.0749 - val_mae: 0.2266 - val_mse: 0.0749 - learning_rate: 2.5000e-04\n",
      "Epoch 56/200\n",
      "\u001b[1m125/125\u001b[0m \u001b[32m━━━━━━━━━━━━━━━━━━━━\u001b[0m\u001b[37m\u001b[0m \u001b[1m6s\u001b[0m 45ms/step - loss: 0.0047 - mae: 0.0509 - mse: 0.0047 - val_loss: 0.0723 - val_mae: 0.2233 - val_mse: 0.0723 - learning_rate: 2.5000e-04\n",
      "Epoch 57/200\n",
      "\u001b[1m125/125\u001b[0m \u001b[32m━━━━━━━━━━━━━━━━━━━━\u001b[0m\u001b[37m\u001b[0m \u001b[1m4s\u001b[0m 35ms/step - loss: 0.0047 - mae: 0.0503 - mse: 0.0047 - val_loss: 0.0747 - val_mae: 0.2265 - val_mse: 0.0747 - learning_rate: 2.5000e-04\n",
      "Epoch 58/200\n",
      "\u001b[1m125/125\u001b[0m \u001b[32m━━━━━━━━━━━━━━━━━━━━\u001b[0m\u001b[37m\u001b[0m \u001b[1m4s\u001b[0m 35ms/step - loss: 0.0047 - mae: 0.0504 - mse: 0.0047 - val_loss: 0.0735 - val_mae: 0.2247 - val_mse: 0.0735 - learning_rate: 2.5000e-04\n",
      "Epoch 59/200\n",
      "\u001b[1m125/125\u001b[0m \u001b[32m━━━━━━━━━━━━━━━━━━━━\u001b[0m\u001b[37m\u001b[0m \u001b[1m4s\u001b[0m 34ms/step - loss: 0.0049 - mae: 0.0508 - mse: 0.0049 - val_loss: 0.0742 - val_mae: 0.2265 - val_mse: 0.0742 - learning_rate: 2.5000e-04\n",
      "\u001b[1m125/125\u001b[0m \u001b[32m━━━━━━━━━━━━━━━━━━━━\u001b[0m\u001b[37m\u001b[0m \u001b[1m1s\u001b[0m 10ms/step\n",
      "\u001b[1m32/32\u001b[0m \u001b[32m━━━━━━━━━━━━━━━━━━━━\u001b[0m\u001b[37m\u001b[0m \u001b[1m1s\u001b[0m 18ms/step\n",
      "\n",
      "📊 CNN Performance:\n",
      "   Training R²: 0.9043\n",
      "   Test R²: 0.1122\n",
      "Model Scores: 0.1121705174446106\n",
      "🚛 Creating transportation predictions for 5000 grids...\n",
      "Predictions shape: (5000,)\n"
     ]
    }
   ],
   "source": [
    "# Reload the oracle module to get the latest changes\n",
    "import importlib\n",
    "import sys\n",
    "if 'oracle' in sys.modules:\n",
    "    importlib.reload(sys.modules['oracle'])\n",
    "from oracle import CNNTransportationOracle # TransportationOracle\n",
    "\n",
    "# Initialize Transportation Oracle\n",
    "transportation_oracle = CNNTransportationOracle()\n",
    "print(\"Transportation Oracle initialized!\")\n",
    "\n",
    "# Select grids and ratings for Transportation advisor (not nan, index 0)\n",
    "transportation_index = 2\n",
    "grids_subset = grids[~np.isnan(ratings[:, transportation_index])]\n",
    "ratings_subset = ratings[~np.isnan(ratings[:, transportation_index]), transportation_index]\n",
    "\n",
    "# Get model scores\n",
    "model_scores, train_data, test_data = transportation_oracle.fit_model(grids_subset, ratings_subset)\n",
    "print(\"Model Scores:\", model_scores)\n",
    "\n",
    "predictions = transportation_oracle.predict(grids_subset)\n",
    "print(\"Predictions shape:\", predictions.shape)"
   ]
  },
  {
   "cell_type": "code",
   "execution_count": 7,
   "id": "c5df08a3",
   "metadata": {},
   "outputs": [
    {
     "data": {
      "text/plain": [
       "(0.1121705174446106,\n",
       "    train_r2\n",
       " 0  0.904337,\n",
       "     test_r2\n",
       " 0  0.112171)"
      ]
     },
     "execution_count": 7,
     "metadata": {},
     "output_type": "execute_result"
    }
   ],
   "source": [
    "model_scores, train_data, test_data"
   ]
  },
  {
   "cell_type": "code",
   "execution_count": 4,
   "id": "edb6cda9",
   "metadata": {},
   "outputs": [
    {
     "ename": "KeyError",
     "evalue": "'target'",
     "output_type": "error",
     "traceback": [
      "\u001b[31m---------------------------------------------------------------------------\u001b[39m",
      "\u001b[31mKeyError\u001b[39m                                  Traceback (most recent call last)",
      "\u001b[36mFile \u001b[39m\u001b[32mc:\\Users\\Lenovo\\anaconda3\\envs\\egg\\Lib\\site-packages\\pandas\\core\\indexes\\base.py:3812\u001b[39m, in \u001b[36mIndex.get_loc\u001b[39m\u001b[34m(self, key)\u001b[39m\n\u001b[32m   3811\u001b[39m \u001b[38;5;28;01mtry\u001b[39;00m:\n\u001b[32m-> \u001b[39m\u001b[32m3812\u001b[39m     \u001b[38;5;28;01mreturn\u001b[39;00m \u001b[38;5;28;43mself\u001b[39;49m\u001b[43m.\u001b[49m\u001b[43m_engine\u001b[49m\u001b[43m.\u001b[49m\u001b[43mget_loc\u001b[49m\u001b[43m(\u001b[49m\u001b[43mcasted_key\u001b[49m\u001b[43m)\u001b[49m\n\u001b[32m   3813\u001b[39m \u001b[38;5;28;01mexcept\u001b[39;00m \u001b[38;5;167;01mKeyError\u001b[39;00m \u001b[38;5;28;01mas\u001b[39;00m err:\n",
      "\u001b[36mFile \u001b[39m\u001b[32mpandas/_libs/index.pyx:167\u001b[39m, in \u001b[36mpandas._libs.index.IndexEngine.get_loc\u001b[39m\u001b[34m()\u001b[39m\n",
      "\u001b[36mFile \u001b[39m\u001b[32mpandas/_libs/index.pyx:196\u001b[39m, in \u001b[36mpandas._libs.index.IndexEngine.get_loc\u001b[39m\u001b[34m()\u001b[39m\n",
      "\u001b[36mFile \u001b[39m\u001b[32mpandas/_libs/hashtable_class_helper.pxi:7088\u001b[39m, in \u001b[36mpandas._libs.hashtable.PyObjectHashTable.get_item\u001b[39m\u001b[34m()\u001b[39m\n",
      "\u001b[36mFile \u001b[39m\u001b[32mpandas/_libs/hashtable_class_helper.pxi:7096\u001b[39m, in \u001b[36mpandas._libs.hashtable.PyObjectHashTable.get_item\u001b[39m\u001b[34m()\u001b[39m\n",
      "\u001b[31mKeyError\u001b[39m: 'target'",
      "\nThe above exception was the direct cause of the following exception:\n",
      "\u001b[31mKeyError\u001b[39m                                  Traceback (most recent call last)",
      "\u001b[36mCell\u001b[39m\u001b[36m \u001b[39m\u001b[32mIn[4]\u001b[39m\u001b[32m, line 35\u001b[39m\n\u001b[32m     32\u001b[39m     \u001b[38;5;28;01mreturn\u001b[39;00m train_r2, test_r2\n\u001b[32m     34\u001b[39m \u001b[38;5;66;03m# Extract the actual ratings from train and test data\u001b[39;00m\n\u001b[32m---> \u001b[39m\u001b[32m35\u001b[39m ratings_train = \u001b[43mtrain_data\u001b[49m\u001b[43m[\u001b[49m\u001b[33;43m'\u001b[39;49m\u001b[33;43mtarget\u001b[39;49m\u001b[33;43m'\u001b[39;49m\u001b[43m]\u001b[49m.values\n\u001b[32m     36\u001b[39m ratings_test = test_data[\u001b[33m'\u001b[39m\u001b[33mtarget\u001b[39m\u001b[33m'\u001b[39m].values\n\u001b[32m     38\u001b[39m \u001b[38;5;66;03m# Remove the target column to get just the features for prediction\u001b[39;00m\n",
      "\u001b[36mFile \u001b[39m\u001b[32mc:\\Users\\Lenovo\\anaconda3\\envs\\egg\\Lib\\site-packages\\pandas\\core\\frame.py:4113\u001b[39m, in \u001b[36mDataFrame.__getitem__\u001b[39m\u001b[34m(self, key)\u001b[39m\n\u001b[32m   4111\u001b[39m \u001b[38;5;28;01mif\u001b[39;00m \u001b[38;5;28mself\u001b[39m.columns.nlevels > \u001b[32m1\u001b[39m:\n\u001b[32m   4112\u001b[39m     \u001b[38;5;28;01mreturn\u001b[39;00m \u001b[38;5;28mself\u001b[39m._getitem_multilevel(key)\n\u001b[32m-> \u001b[39m\u001b[32m4113\u001b[39m indexer = \u001b[38;5;28;43mself\u001b[39;49m\u001b[43m.\u001b[49m\u001b[43mcolumns\u001b[49m\u001b[43m.\u001b[49m\u001b[43mget_loc\u001b[49m\u001b[43m(\u001b[49m\u001b[43mkey\u001b[49m\u001b[43m)\u001b[49m\n\u001b[32m   4114\u001b[39m \u001b[38;5;28;01mif\u001b[39;00m is_integer(indexer):\n\u001b[32m   4115\u001b[39m     indexer = [indexer]\n",
      "\u001b[36mFile \u001b[39m\u001b[32mc:\\Users\\Lenovo\\anaconda3\\envs\\egg\\Lib\\site-packages\\pandas\\core\\indexes\\base.py:3819\u001b[39m, in \u001b[36mIndex.get_loc\u001b[39m\u001b[34m(self, key)\u001b[39m\n\u001b[32m   3814\u001b[39m     \u001b[38;5;28;01mif\u001b[39;00m \u001b[38;5;28misinstance\u001b[39m(casted_key, \u001b[38;5;28mslice\u001b[39m) \u001b[38;5;129;01mor\u001b[39;00m (\n\u001b[32m   3815\u001b[39m         \u001b[38;5;28misinstance\u001b[39m(casted_key, abc.Iterable)\n\u001b[32m   3816\u001b[39m         \u001b[38;5;129;01mand\u001b[39;00m \u001b[38;5;28many\u001b[39m(\u001b[38;5;28misinstance\u001b[39m(x, \u001b[38;5;28mslice\u001b[39m) \u001b[38;5;28;01mfor\u001b[39;00m x \u001b[38;5;129;01min\u001b[39;00m casted_key)\n\u001b[32m   3817\u001b[39m     ):\n\u001b[32m   3818\u001b[39m         \u001b[38;5;28;01mraise\u001b[39;00m InvalidIndexError(key)\n\u001b[32m-> \u001b[39m\u001b[32m3819\u001b[39m     \u001b[38;5;28;01mraise\u001b[39;00m \u001b[38;5;167;01mKeyError\u001b[39;00m(key) \u001b[38;5;28;01mfrom\u001b[39;00m\u001b[38;5;250m \u001b[39m\u001b[34;01merr\u001b[39;00m\n\u001b[32m   3820\u001b[39m \u001b[38;5;28;01mexcept\u001b[39;00m \u001b[38;5;167;01mTypeError\u001b[39;00m:\n\u001b[32m   3821\u001b[39m     \u001b[38;5;66;03m# If we have a listlike key, _check_indexing_error will raise\u001b[39;00m\n\u001b[32m   3822\u001b[39m     \u001b[38;5;66;03m#  InvalidIndexError. Otherwise we fall through and re-raise\u001b[39;00m\n\u001b[32m   3823\u001b[39m     \u001b[38;5;66;03m#  the TypeError.\u001b[39;00m\n\u001b[32m   3824\u001b[39m     \u001b[38;5;28mself\u001b[39m._check_indexing_error(key)\n",
      "\u001b[31mKeyError\u001b[39m: 'target'"
     ]
    }
   ],
   "source": [
    "from sklearn.metrics import r2_score\n",
    "from matplotlib import pyplot as plt\n",
    "\n",
    "def plot_and_r2(preds_train, preds_test, ratings_train, ratings_test):\n",
    "    #Create scatter plot\n",
    "    plt.figure(figsize=(10,6))\n",
    "    plt.scatter(ratings_train, preds_train, label='Train Set Preds', s=15, c=\"#BBBBBB\", alpha=0.6) #train set in gray\n",
    "    plt.scatter(ratings_test, preds_test, label='Test Set Preds', s=20, c=\"#DC267F\", alpha=0.8) #test set in magenta\n",
    "    plt.plot([0,1], [0,1], label=\"Perfect Prediction\", linewidth=2, c=\"k\", linestyle='--') #target line in black\n",
    "\n",
    "    #Set axis labels and title\n",
    "    plt.xlabel(\"Actual Rating\")\n",
    "    plt.ylabel(\"Predicted Rating\")\n",
    "    plt.title(\"Transportation Oracle Predictions\")\n",
    "\n",
    "    #Turn off top and right spines\n",
    "    ax = plt.gca()\n",
    "    ax.spines['right'].set_visible(False)\n",
    "    ax.spines['top'].set_visible(False)\n",
    "\n",
    "    plt.legend() #Display legend\n",
    "    plt.grid(True, alpha=0.3)\n",
    "    plt.show() #Show plot\n",
    "\n",
    "    #Calculate R2 score for train and test sets\n",
    "    train_r2 = r2_score(ratings_train, preds_train)\n",
    "    test_r2 = r2_score(ratings_test, preds_test)\n",
    "    \n",
    "    print(f\"Transportation Oracle Train Set R² score: {train_r2:.4f}\")\n",
    "    print(f\"Transportation Oracle Test Set R² score: {test_r2:.4f}\")\n",
    "    \n",
    "    return train_r2, test_r2\n",
    "\n",
    "# Extract the actual ratings from train and test data\n",
    "ratings_train = train_data['target'].values\n",
    "ratings_test = test_data['target'].values\n",
    "\n",
    "# Remove the target column to get just the features for prediction\n",
    "train_features = train_data.drop('target', axis=1)\n",
    "test_features = test_data.drop('target', axis=1)\n",
    "\n",
    "# Make predictions on the train and test features\n",
    "print(\"Making predictions on train set...\")\n",
    "preds_train = transportation_oracle.model.predict(train_features)\n",
    "\n",
    "print(\"Making predictions on test set...\")\n",
    "preds_test = transportation_oracle.model.predict(test_features)\n",
    "\n",
    "# Create the plot and get R² scores\n",
    "train_r2, test_r2 = plot_and_r2(preds_train, preds_test, ratings_train, ratings_test)\n",
    "\n",
    "# Additional analysis\n",
    "print(f\"\\nModel Performance Summary:\")\n",
    "print(f\"{'='*40}\")\n",
    "print(f\"Training R²:   {train_r2:.4f}\")\n",
    "print(f\"Test R²:       {test_r2:.4f}\")\n",
    "print(f\"Overfitting:   {'Yes' if (train_r2 - test_r2) > 0.1 else 'No'} ({train_r2 - test_r2:.4f})\")\n",
    "print(f\"Performance:   {'Excellent' if test_r2 > 0.9 else 'Good' if test_r2 > 0.8 else 'Fair' if test_r2 > 0.6 else 'Poor'}\")"
   ]
  },
  {
   "cell_type": "code",
   "execution_count": null,
   "id": "578a7b9c",
   "metadata": {},
   "outputs": [],
   "source": [
    "# save model in pkl file\n",
    "transportation_oracle.save_model('transportation_oracle_model.pkl')\n",
    "\n",
    "# --- IGNORE ---\n",
    "# instructions on how to use exported model\n",
    "# from oracle import TransportationOracle\n",
    "# transportation_oracle = TransportationOracle.load_model(\"transportation_oracle_model.pkl\")\n",
    "# --- IGNORE ---"
   ]
  },
  {
   "cell_type": "code",
   "execution_count": null,
   "id": "9c3a4630",
   "metadata": {},
   "outputs": [],
   "source": []
  },
  {
   "cell_type": "code",
   "execution_count": null,
   "id": "fe78d3d4",
   "metadata": {},
   "outputs": [],
   "source": []
  }
 ],
 "metadata": {
  "kernelspec": {
   "display_name": "egg",
   "language": "python",
   "name": "python3"
  },
  "language_info": {
   "codemirror_mode": {
    "name": "ipython",
    "version": 3
   },
   "file_extension": ".py",
   "mimetype": "text/x-python",
   "name": "python",
   "nbconvert_exporter": "python",
   "pygments_lexer": "ipython3",
   "version": "3.11.13"
  }
 },
 "nbformat": 4,
 "nbformat_minor": 5
}
